{
  "nbformat": 4,
  "nbformat_minor": 0,
  "metadata": {
    "colab": {
      "provenance": [],
      "authorship_tag": "ABX9TyPcPhydAbhLznQOypZ/RZ5b",
      "include_colab_link": true
    },
    "kernelspec": {
      "name": "python3",
      "display_name": "Python 3"
    },
    "language_info": {
      "name": "python"
    }
  },
  "cells": [
    {
      "cell_type": "markdown",
      "metadata": {
        "id": "view-in-github",
        "colab_type": "text"
      },
      "source": [
        "<a href=\"https://colab.research.google.com/github/jannat0718/Tensorflow-Tutorial/blob/main/TensorFlow_tutorial_2_Neural_Networks_with_Sequential_and_Functional_API_keras.ipynb\" target=\"_parent\"><img src=\"https://colab.research.google.com/assets/colab-badge.svg\" alt=\"Open In Colab\"/></a>"
      ]
    },
    {
      "cell_type": "markdown",
      "source": [
        "Reference:https://www.youtube.com/watch?v=pAhPiF3yiXI&list=PLhhyoLH6IjfxVOdVC1P1L5z5azs0XjMsb&index=4"
      ],
      "metadata": {
        "id": "8XHI5APH7SVG"
      }
    },
    {
      "cell_type": "code",
      "execution_count": null,
      "metadata": {
        "id": "04ju2OB2aidT"
      },
      "outputs": [],
      "source": [
        "import tensorflow as tf\n",
        "from tensorflow import keras\n",
        "from tensorflow.keras import layers\n",
        "from tensorflow.keras.datasets import mnist"
      ]
    },
    {
      "cell_type": "code",
      "source": [
        "#Load data\n",
        "(X_train, Y_train), (X_test, Y_test) = mnist.load_data()\n",
        "print(X_train.shape)\n",
        "print(Y_train.shape) \n",
        "print(X_test.shape)\n",
        "print(Y_test.shape)"
      ],
      "metadata": {
        "colab": {
          "base_uri": "https://localhost:8080/"
        },
        "id": "2_Z78Dumb6yT",
        "outputId": "6e99cca9-f167-4c78-e045-92c948bf63a7"
      },
      "execution_count": null,
      "outputs": [
        {
          "output_type": "stream",
          "name": "stdout",
          "text": [
            "(60000, 28, 28)\n",
            "(60000,)\n",
            "(10000, 28, 28)\n",
            "(10000,)\n"
          ]
        }
      ]
    },
    {
      "cell_type": "markdown",
      "source": [
        "\n",
        "\n",
        "1.   Flatten using reshape,assign all the same dtype and normalize using rescalling\n",
        "2.   Reshape -1 means keeping whatever the value on that dimension, in this case 60000"
      ],
      "metadata": {
        "id": "_59IZHWjgUQv"
      }
    },
    {
      "cell_type": "code",
      "source": [
        "X_train=X_train.reshape(-1,28*28).astype(\"float32\")/255.0 \n",
        "X_test=X_test.reshape(-1,28*28).astype(\"float32\")/255.0\n",
        "print(X_train.shape)\n",
        "print(X_test.shape)\n"
      ],
      "metadata": {
        "colab": {
          "base_uri": "https://localhost:8080/"
        },
        "id": "fU_qubRxe1Hp",
        "outputId": "73b2f36d-e361-4636-cc10-0a6802064830"
      },
      "execution_count": null,
      "outputs": [
        {
          "output_type": "stream",
          "name": "stdout",
          "text": [
            "(60000, 784)\n",
            "(10000, 784)\n"
          ]
        }
      ]
    },
    {
      "cell_type": "markdown",
      "source": [
        "#Conver to tensor\n",
        "\n",
        "1.   NOTE: If the type is in numpy array, we dont need to convert it to tensor manually.It would happen automatically .\n",
        "\n",
        "\n"
      ],
      "metadata": {
        "id": "Shd1JTBMgoYL"
      }
    },
    {
      "cell_type": "code",
      "source": [
        "#OPTIONAL\n",
        "print(type(X_train))\n",
        "X_train=tf.convert_to_tensor(X_train)\n",
        "type(X_train)\n",
        "X_test=tf.convert_to_tensor(X_test)"
      ],
      "metadata": {
        "colab": {
          "base_uri": "https://localhost:8080/"
        },
        "id": "5oL8eYQJe1K4",
        "outputId": "281c4703-c8c9-4417-9acd-6f09b73dc8a0"
      },
      "execution_count": null,
      "outputs": [
        {
          "output_type": "stream",
          "name": "stdout",
          "text": [
            "<class 'numpy.ndarray'>\n"
          ]
        }
      ]
    },
    {
      "cell_type": "markdown",
      "source": [
        "#Create a basic sequential neural network\n",
        "\n",
        "1.   Sequential API (very convinient but not flexible)\n",
        "2.   Limitations: It only allowes one input to mapped to one output only.\n"
      ],
      "metadata": {
        "id": "16ESBWvKhLzi"
      }
    },
    {
      "cell_type": "code",
      "source": [
        "model=keras.Sequential(\n",
        "    [\n",
        "     keras.Input(shape=(28*28)),\n",
        "     layers.Dense(512,activation='relu'),#Fully connecte layers\n",
        "     layers.Dense(256,activation='relu'),#Fully connected layers\n",
        "     layers.Dense(10),#Output layers,we could use softmax here but we will use softmex inside the loss function\n",
        "    ]\n",
        ")"
      ],
      "metadata": {
        "id": "1ZH7-fO1e1Ny"
      },
      "execution_count": null,
      "outputs": []
    },
    {
      "cell_type": "code",
      "source": [
        "# Another way of same model creation:Easy for model debugging using model.summary()\n",
        "model=keras.Sequential()\n",
        "model.add(keras.Input(shape=(28*28)))\n",
        "model.add(layers.Dense(512,activation='relu'))\n",
        "print(model.summary())\n",
        "model.add(layers.Dense(256,activation='relu'))\n",
        "print(model.summary())\n",
        "model.add(layers.Dense(10))\n",
        "print(model.summary())"
      ],
      "metadata": {
        "colab": {
          "base_uri": "https://localhost:8080/"
        },
        "id": "E1FhfeykqTJQ",
        "outputId": "7435c188-22f5-43e9-f398-35dd96dbce00"
      },
      "execution_count": null,
      "outputs": [
        {
          "output_type": "stream",
          "name": "stdout",
          "text": [
            "Model: \"sequential_1\"\n",
            "_________________________________________________________________\n",
            " Layer (type)                Output Shape              Param #   \n",
            "=================================================================\n",
            " dense_3 (Dense)             (None, 512)               401920    \n",
            "                                                                 \n",
            "=================================================================\n",
            "Total params: 401,920\n",
            "Trainable params: 401,920\n",
            "Non-trainable params: 0\n",
            "_________________________________________________________________\n",
            "None\n",
            "Model: \"sequential_1\"\n",
            "_________________________________________________________________\n",
            " Layer (type)                Output Shape              Param #   \n",
            "=================================================================\n",
            " dense_3 (Dense)             (None, 512)               401920    \n",
            "                                                                 \n",
            " dense_4 (Dense)             (None, 256)               131328    \n",
            "                                                                 \n",
            "=================================================================\n",
            "Total params: 533,248\n",
            "Trainable params: 533,248\n",
            "Non-trainable params: 0\n",
            "_________________________________________________________________\n",
            "None\n",
            "Model: \"sequential_1\"\n",
            "_________________________________________________________________\n",
            " Layer (type)                Output Shape              Param #   \n",
            "=================================================================\n",
            " dense_3 (Dense)             (None, 512)               401920    \n",
            "                                                                 \n",
            " dense_4 (Dense)             (None, 256)               131328    \n",
            "                                                                 \n",
            " dense_5 (Dense)             (None, 10)                2570      \n",
            "                                                                 \n",
            "=================================================================\n",
            "Total params: 535,818\n",
            "Trainable params: 535,818\n",
            "Non-trainable params: 0\n",
            "_________________________________________________________________\n",
            "None\n"
          ]
        }
      ]
    },
    {
      "cell_type": "markdown",
      "source": [
        "#Model.summary():\n",
        "\n",
        "Note: 1.We need to have keras input shape layers to print model.summary() .Otherwise it would show error.\n",
        "      2.Without input shape layer, we need to train the model using model.fit() and after that we can use model.summarry()."
      ],
      "metadata": {
        "id": "7kKrneJhphcJ"
      }
    },
    {
      "cell_type": "code",
      "source": [
        "print(model.summary())"
      ],
      "metadata": {
        "colab": {
          "base_uri": "https://localhost:8080/"
        },
        "id": "gFbYCDDLonHP",
        "outputId": "ffa2aef0-c64e-4942-e702-9aab60484c04"
      },
      "execution_count": null,
      "outputs": [
        {
          "output_type": "stream",
          "name": "stdout",
          "text": [
            "Model: \"sequential_1\"\n",
            "_________________________________________________________________\n",
            " Layer (type)                Output Shape              Param #   \n",
            "=================================================================\n",
            " dense_3 (Dense)             (None, 512)               401920    \n",
            "                                                                 \n",
            " dense_4 (Dense)             (None, 256)               131328    \n",
            "                                                                 \n",
            " dense_5 (Dense)             (None, 10)                2570      \n",
            "                                                                 \n",
            "=================================================================\n",
            "Total params: 535,818\n",
            "Trainable params: 535,818\n",
            "Non-trainable params: 0\n",
            "_________________________________________________________________\n",
            "None\n"
          ]
        }
      ]
    },
    {
      "cell_type": "markdown",
      "source": [
        "#Compile the model:\n",
        "\n",
        "1.   ***SparseCategorical*** , truth labels are integer encoded, for example, [1] , [2] and [3] for 3-class problem.\n",
        "2.   ***Categorical cross-entropy*** is used when true labels are one-hot encoded, for example, we have the following true values for 3-class classification problem [1,0,0] , [0,1,0] and [0,0,1].\n",
        "2.   ***from_logits=True,*** means we didnt use any softmax in the output layers and now its going to send it into softmax first and mapp into SparseCategoricalEntropy.\n",
        "\n"
      ],
      "metadata": {
        "id": "RsN7MY6AjJz4"
      }
    },
    {
      "cell_type": "code",
      "source": [
        "model.compile(\n",
        "    loss=keras.losses.SparseCategoricalCrossentropy(from_logits=True),\n",
        "    optimizer=keras.optimizers.Adam(learning_rate=0.001),\n",
        "    metrics=[\"accuracy\"],\n",
        ")"
      ],
      "metadata": {
        "id": "auCVqWjke1Qr"
      },
      "execution_count": null,
      "outputs": []
    },
    {
      "cell_type": "markdown",
      "source": [
        "Fit the model"
      ],
      "metadata": {
        "id": "rFFk-dookybr"
      }
    },
    {
      "cell_type": "code",
      "source": [
        "history=model.fit(X_train,Y_train,batch_size=32,epochs=5,verbose=1,validation_split = 0.2,shuffle =True)"
      ],
      "metadata": {
        "colab": {
          "base_uri": "https://localhost:8080/"
        },
        "id": "UIxuZdhpkyC3",
        "outputId": "1c79e6c8-d200-498f-9b05-c5d784c9c88e"
      },
      "execution_count": null,
      "outputs": [
        {
          "output_type": "stream",
          "name": "stdout",
          "text": [
            "Epoch 1/5\n",
            "1500/1500 [==============================] - 11s 6ms/step - loss: 0.2074 - accuracy: 0.9368 - val_loss: 0.1157 - val_accuracy: 0.9655\n",
            "Epoch 2/5\n",
            "1500/1500 [==============================] - 10s 6ms/step - loss: 0.0855 - accuracy: 0.9726 - val_loss: 0.0972 - val_accuracy: 0.9721\n",
            "Epoch 3/5\n",
            "1500/1500 [==============================] - 10s 7ms/step - loss: 0.0571 - accuracy: 0.9819 - val_loss: 0.0894 - val_accuracy: 0.9744\n",
            "Epoch 4/5\n",
            "1500/1500 [==============================] - 10s 7ms/step - loss: 0.0399 - accuracy: 0.9868 - val_loss: 0.0934 - val_accuracy: 0.9753\n",
            "Epoch 5/5\n",
            "1500/1500 [==============================] - 10s 6ms/step - loss: 0.0375 - accuracy: 0.9876 - val_loss: 0.0988 - val_accuracy: 0.9728\n"
          ]
        }
      ]
    },
    {
      "cell_type": "code",
      "source": [
        "model.summary()"
      ],
      "metadata": {
        "colab": {
          "base_uri": "https://localhost:8080/"
        },
        "id": "n1HgOXgomeWl",
        "outputId": "8c14dc53-d3f5-4913-abeb-a81c4bd49747"
      },
      "execution_count": null,
      "outputs": [
        {
          "output_type": "stream",
          "name": "stdout",
          "text": [
            "Model: \"sequential\"\n",
            "_________________________________________________________________\n",
            " Layer (type)                Output Shape              Param #   \n",
            "=================================================================\n",
            " dense (Dense)               (None, 512)               401920    \n",
            "                                                                 \n",
            " dense_1 (Dense)             (None, 256)               131328    \n",
            "                                                                 \n",
            " dense_2 (Dense)             (None, 10)                2570      \n",
            "                                                                 \n",
            "=================================================================\n",
            "Total params: 535,818\n",
            "Trainable params: 535,818\n",
            "Non-trainable params: 0\n",
            "_________________________________________________________________\n"
          ]
        }
      ]
    },
    {
      "cell_type": "code",
      "source": [
        "history.history"
      ],
      "metadata": {
        "colab": {
          "base_uri": "https://localhost:8080/"
        },
        "id": "StpRWmpenaIN",
        "outputId": "8ced31d8-79c5-4d8d-e97a-955bb9b9ed03"
      },
      "execution_count": null,
      "outputs": [
        {
          "output_type": "execute_result",
          "data": {
            "text/plain": [
              "{'accuracy': [0.9368125200271606,\n",
              "  0.9725624918937683,\n",
              "  0.9818750023841858,\n",
              "  0.9868124723434448,\n",
              "  0.9875624775886536],\n",
              " 'loss': [0.20735329389572144,\n",
              "  0.08548649400472641,\n",
              "  0.057109203189611435,\n",
              "  0.03992408141493797,\n",
              "  0.0375487245619297],\n",
              " 'val_accuracy': [0.965499997138977,\n",
              "  0.972083330154419,\n",
              "  0.9744166731834412,\n",
              "  0.9753333330154419,\n",
              "  0.9728333353996277],\n",
              " 'val_loss': [0.11566198617219925,\n",
              "  0.09718445688486099,\n",
              "  0.08940224349498749,\n",
              "  0.09343978017568588,\n",
              "  0.09878943860530853]}"
            ]
          },
          "metadata": {},
          "execution_count": 11
        }
      ]
    },
    {
      "cell_type": "code",
      "source": [
        "model.evaluate(X_test,Y_test,batch_size=32,verbose=1)"
      ],
      "metadata": {
        "colab": {
          "base_uri": "https://localhost:8080/"
        },
        "id": "BUjwWIRxkyGL",
        "outputId": "b61f2247-c6c2-4c03-bb38-44ccc727339f"
      },
      "execution_count": null,
      "outputs": [
        {
          "output_type": "stream",
          "name": "stdout",
          "text": [
            "313/313 [==============================] - 1s 3ms/step - loss: 0.0871 - accuracy: 0.9765\n"
          ]
        },
        {
          "output_type": "execute_result",
          "data": {
            "text/plain": [
              "[0.08706106245517731, 0.9764999747276306]"
            ]
          },
          "metadata": {},
          "execution_count": 12
        }
      ]
    },
    {
      "cell_type": "markdown",
      "source": [
        "## Create a Basic Neural Network Using Funtional API\n",
        "\n",
        "\n",
        "1.   More fexible as it could handle multiple input and output mapping.\n",
        "\n",
        "\n"
      ],
      "metadata": {
        "id": "k_NKuYsLreX0"
      }
    },
    {
      "cell_type": "code",
      "source": [
        "Inputs=keras.Input(shape=(28*28))\n",
        "x=layers.Dense(512,activation='relu',name='Fully_connected_1')(Inputs)\n",
        "x=layers.Dense(256,activation='relu',name='Fully_connected_2')(x)\n",
        "outputs=layers.Dense(10,activation='softmax',name='Output_layers')(x)\n",
        "model_functional=keras.Model(inputs=Inputs,outputs=outputs)"
      ],
      "metadata": {
        "id": "Uzmw0MyLr44q"
      },
      "execution_count": null,
      "outputs": []
    },
    {
      "cell_type": "code",
      "source": [
        "print(model_functional.summary())"
      ],
      "metadata": {
        "colab": {
          "base_uri": "https://localhost:8080/"
        },
        "id": "W3oXtHA2r47z",
        "outputId": "3c6a9566-0d33-486f-99e6-9cbd507f88a3"
      },
      "execution_count": null,
      "outputs": [
        {
          "output_type": "stream",
          "name": "stdout",
          "text": [
            "Model: \"model_4\"\n",
            "_________________________________________________________________\n",
            " Layer (type)                Output Shape              Param #   \n",
            "=================================================================\n",
            " input_8 (InputLayer)        [(None, 784)]             0         \n",
            "                                                                 \n",
            " Fully_connected_1 (Dense)   (None, 512)               401920    \n",
            "                                                                 \n",
            " Fully_connected_2 (Dense)   (None, 256)               131328    \n",
            "                                                                 \n",
            " Output_layers (Dense)       (None, 10)                2570      \n",
            "                                                                 \n",
            "=================================================================\n",
            "Total params: 535,818\n",
            "Trainable params: 535,818\n",
            "Non-trainable params: 0\n",
            "_________________________________________________________________\n",
            "None\n"
          ]
        }
      ]
    },
    {
      "cell_type": "code",
      "source": [
        "model_functional.compile(\n",
        "    loss=keras.losses.SparseCategoricalCrossentropy(from_logits=False),#from_logits=False as we didnt use any softmax here\n",
        "    optimizer=keras.optimizers.Adam(learning_rate=0.001),\n",
        "    metrics=['accuracy']\n",
        ")"
      ],
      "metadata": {
        "id": "qYLNfsOWr5L3"
      },
      "execution_count": null,
      "outputs": []
    },
    {
      "cell_type": "code",
      "source": [
        "history_function=model_functional.fit(X_train,Y_train,batch_size=32,epochs=5,verbose=1,validation_split = 0.2,shuffle =True)"
      ],
      "metadata": {
        "colab": {
          "base_uri": "https://localhost:8080/"
        },
        "id": "LLYVLtYcr5Q1",
        "outputId": "1d23d4bc-b058-4c1e-b459-89de353ce425"
      },
      "execution_count": null,
      "outputs": [
        {
          "output_type": "stream",
          "name": "stdout",
          "text": [
            "Epoch 1/5\n",
            "1500/1500 [==============================] - 14s 9ms/step - loss: 0.2035 - accuracy: 0.9378 - val_loss: 0.1127 - val_accuracy: 0.9664\n",
            "Epoch 2/5\n",
            "1500/1500 [==============================] - 10s 7ms/step - loss: 0.0859 - accuracy: 0.9733 - val_loss: 0.0966 - val_accuracy: 0.9722\n",
            "Epoch 3/5\n",
            "1500/1500 [==============================] - 13s 9ms/step - loss: 0.0591 - accuracy: 0.9808 - val_loss: 0.0941 - val_accuracy: 0.9734\n",
            "Epoch 4/5\n",
            "1500/1500 [==============================] - 11s 7ms/step - loss: 0.0429 - accuracy: 0.9864 - val_loss: 0.0971 - val_accuracy: 0.9736\n",
            "Epoch 5/5\n",
            "1500/1500 [==============================] - 10s 7ms/step - loss: 0.0336 - accuracy: 0.9890 - val_loss: 0.1074 - val_accuracy: 0.9728\n"
          ]
        }
      ]
    },
    {
      "cell_type": "code",
      "source": [
        "history.history"
      ],
      "metadata": {
        "colab": {
          "base_uri": "https://localhost:8080/"
        },
        "id": "uQIfmNF0uZ7A",
        "outputId": "41a7ac2a-1805-46c8-a913-22b9de172974"
      },
      "execution_count": null,
      "outputs": [
        {
          "output_type": "execute_result",
          "data": {
            "text/plain": [
              "{'accuracy': [0.9368125200271606,\n",
              "  0.9725624918937683,\n",
              "  0.9818750023841858,\n",
              "  0.9868124723434448,\n",
              "  0.9875624775886536],\n",
              " 'loss': [0.20735329389572144,\n",
              "  0.08548649400472641,\n",
              "  0.057109203189611435,\n",
              "  0.03992408141493797,\n",
              "  0.0375487245619297],\n",
              " 'val_accuracy': [0.965499997138977,\n",
              "  0.972083330154419,\n",
              "  0.9744166731834412,\n",
              "  0.9753333330154419,\n",
              "  0.9728333353996277],\n",
              " 'val_loss': [0.11566198617219925,\n",
              "  0.09718445688486099,\n",
              "  0.08940224349498749,\n",
              "  0.09343978017568588,\n",
              "  0.09878943860530853]}"
            ]
          },
          "metadata": {},
          "execution_count": 24
        }
      ]
    },
    {
      "cell_type": "code",
      "source": [
        "model_functional.evaluate(X_test,Y_test,batch_size=32,verbose=1)"
      ],
      "metadata": {
        "colab": {
          "base_uri": "https://localhost:8080/"
        },
        "id": "7GkOBXxbuZ-I",
        "outputId": "a495baf5-862b-44fc-f84f-f97bcbc7b3a6"
      },
      "execution_count": null,
      "outputs": [
        {
          "output_type": "stream",
          "name": "stdout",
          "text": [
            "313/313 [==============================] - 1s 3ms/step - loss: 0.0978 - accuracy: 0.9750\n"
          ]
        },
        {
          "output_type": "execute_result",
          "data": {
            "text/plain": [
              "[0.09784424304962158, 0.9750000238418579]"
            ]
          },
          "metadata": {},
          "execution_count": 25
        }
      ]
    },
    {
      "cell_type": "markdown",
      "source": [
        "#Extracting specific layer output for debugging and other purose"
      ],
      "metadata": {
        "id": "V64Ww7VZwyBH"
      }
    },
    {
      "cell_type": "code",
      "source": [
        "#From sequential model\n",
        "import sys\n",
        "#sys.exit()"
      ],
      "metadata": {
        "id": "_Wv9vcbjxBe9"
      },
      "execution_count": null,
      "outputs": []
    },
    {
      "cell_type": "code",
      "source": [
        "# Another way of same model creation:Easy for model debugging using model.summary()\n",
        "model=keras.Sequential()\n",
        "model.add(keras.Input(shape=(28*28),name='Input_layer'))\n",
        "model.add(layers.Dense(512,activation='relu',name='FC1'))\n",
        "#print(model.summary())\n",
        "model.add(layers.Dense(256,activation='relu',name='FC2'))\n",
        "#print(model.summary())\n",
        "model.add(layers.Dense(10,name='Output_layer'))\n",
        "print(model.summary())"
      ],
      "metadata": {
        "colab": {
          "base_uri": "https://localhost:8080/"
        },
        "id": "OHZu2kkKx352",
        "outputId": "8262f87f-5470-46ae-c8cb-96c12cef46a2"
      },
      "execution_count": null,
      "outputs": [
        {
          "output_type": "stream",
          "name": "stdout",
          "text": [
            "Model: \"sequential_16\"\n",
            "_________________________________________________________________\n",
            " Layer (type)                Output Shape              Param #   \n",
            "=================================================================\n",
            " FC1 (Dense)                 (None, 512)               401920    \n",
            "                                                                 \n",
            " FC2 (Dense)                 (None, 256)               131328    \n",
            "                                                                 \n",
            " Output_layer (Dense)        (None, 10)                2570      \n",
            "                                                                 \n",
            "=================================================================\n",
            "Total params: 535,818\n",
            "Trainable params: 535,818\n",
            "Non-trainable params: 0\n",
            "_________________________________________________________________\n",
            "None\n"
          ]
        }
      ]
    },
    {
      "cell_type": "code",
      "source": [
        "model=keras.Model(inputs=model.inputs,\n",
        "                  outputs=model.output)\n",
        "print(model.summary())\n"
      ],
      "metadata": {
        "colab": {
          "base_uri": "https://localhost:8080/"
        },
        "id": "RRccTk_ZxBrV",
        "outputId": "8e4109dc-7fa2-40a9-bb99-96ad2acbcc54"
      },
      "execution_count": null,
      "outputs": [
        {
          "output_type": "stream",
          "name": "stdout",
          "text": [
            "Model: \"model_33\"\n",
            "_________________________________________________________________\n",
            " Layer (type)                Output Shape              Param #   \n",
            "=================================================================\n",
            " Input_layer (InputLayer)    [(None, 784)]             0         \n",
            "                                                                 \n",
            " FC1 (Dense)                 (None, 512)               401920    \n",
            "                                                                 \n",
            " FC2 (Dense)                 (None, 256)               131328    \n",
            "                                                                 \n",
            " Output_layer (Dense)        (None, 10)                2570      \n",
            "                                                                 \n",
            "=================================================================\n",
            "Total params: 535,818\n",
            "Trainable params: 535,818\n",
            "Non-trainable params: 0\n",
            "_________________________________________________________________\n",
            "None\n"
          ]
        }
      ]
    },
    {
      "cell_type": "markdown",
      "source": [
        "# Extract single specific layers output & Feature\n",
        "\n",
        "1. .layers[-1] means we will get including output layer\n",
        "2.  .layera[-2] means it would drop output layesr and prin untill before layers ,in this case FC2\n",
        "3. .layers[-3] means it would drop last 2 layers and print untill previous layers ,in this case FC1.\n"
      ],
      "metadata": {
        "id": "IOPR2VTr0Bf8"
      }
    },
    {
      "cell_type": "code",
      "source": [
        "#Get a specific layers using layers number\n",
        "model1=keras.Model(inputs=model.inputs,\n",
        "                  outputs=[model.layers[-2].output])\n",
        "print(model1.summary())\n",
        "\n"
      ],
      "metadata": {
        "colab": {
          "base_uri": "https://localhost:8080/"
        },
        "id": "ooxLqxAUzqYu",
        "outputId": "aee476e0-7888-45cf-fda7-fdc5a936af68"
      },
      "execution_count": null,
      "outputs": [
        {
          "output_type": "stream",
          "name": "stdout",
          "text": [
            "Model: \"model_34\"\n",
            "_________________________________________________________________\n",
            " Layer (type)                Output Shape              Param #   \n",
            "=================================================================\n",
            " Input_layer (InputLayer)    [(None, 784)]             0         \n",
            "                                                                 \n",
            " FC1 (Dense)                 (None, 512)               401920    \n",
            "                                                                 \n",
            " FC2 (Dense)                 (None, 256)               131328    \n",
            "                                                                 \n",
            "=================================================================\n",
            "Total params: 533,248\n",
            "Trainable params: 533,248\n",
            "Non-trainable params: 0\n",
            "_________________________________________________________________\n",
            "None\n"
          ]
        }
      ]
    },
    {
      "cell_type": "code",
      "source": [
        "# get a specific layers using the layers name\n",
        "\n",
        "model2=keras.Model(inputs=model.inputs,\n",
        "                       outputs=[model.get_layer('FC2').output])\n",
        "print(model2.summary())"
      ],
      "metadata": {
        "colab": {
          "base_uri": "https://localhost:8080/"
        },
        "id": "x8JVZ73C3GqC",
        "outputId": "ca12dd9a-61ef-48f2-a1ca-c0f4a8212bdb"
      },
      "execution_count": null,
      "outputs": [
        {
          "output_type": "stream",
          "name": "stdout",
          "text": [
            "Model: \"model_36\"\n",
            "_________________________________________________________________\n",
            " Layer (type)                Output Shape              Param #   \n",
            "=================================================================\n",
            " Input_layer (InputLayer)    [(None, 784)]             0         \n",
            "                                                                 \n",
            " FC1 (Dense)                 (None, 512)               401920    \n",
            "                                                                 \n",
            " FC2 (Dense)                 (None, 256)               131328    \n",
            "                                                                 \n",
            "=================================================================\n",
            "Total params: 533,248\n",
            "Trainable params: 533,248\n",
            "Non-trainable params: 0\n",
            "_________________________________________________________________\n",
            "None\n"
          ]
        }
      ]
    },
    {
      "cell_type": "code",
      "source": [
        "feature=model2.predict(X_test)\n",
        "print(feature.shape)"
      ],
      "metadata": {
        "colab": {
          "base_uri": "https://localhost:8080/"
        },
        "id": "FtqMRqNcxByq",
        "outputId": "6570c23d-ae54-4791-a13f-fa5f7ab74446"
      },
      "execution_count": null,
      "outputs": [
        {
          "output_type": "stream",
          "name": "stdout",
          "text": [
            "(10000, 256)\n"
          ]
        }
      ]
    },
    {
      "cell_type": "markdown",
      "source": [
        "# Extract all layers output & Feature"
      ],
      "metadata": {
        "id": "1ggngg8G4WMN"
      }
    },
    {
      "cell_type": "code",
      "source": [
        "model_all=keras.Model(inputs=model.inputs,\n",
        "                      outputs=[layer.output for layer in model.layers])\n"
      ],
      "metadata": {
        "id": "aP93Gxcw4CX6"
      },
      "execution_count": null,
      "outputs": []
    },
    {
      "cell_type": "code",
      "source": [
        "features_all=model_all.predict(X_train)\n",
        "for feature in features_all:\n",
        "  print(feature.shape)"
      ],
      "metadata": {
        "colab": {
          "base_uri": "https://localhost:8080/"
        },
        "id": "8xoKhrcf41Dm",
        "outputId": "c823e766-3461-45e9-d2ba-3066c3bf49fc"
      },
      "execution_count": null,
      "outputs": [
        {
          "output_type": "stream",
          "name": "stdout",
          "text": [
            "(60000, 784)\n",
            "(60000, 512)\n",
            "(60000, 256)\n",
            "(60000, 10)\n"
          ]
        }
      ]
    }
  ]
}